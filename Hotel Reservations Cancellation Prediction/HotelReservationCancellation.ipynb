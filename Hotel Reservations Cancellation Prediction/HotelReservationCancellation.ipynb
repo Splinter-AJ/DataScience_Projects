{
 "cells": [
  {
   "cell_type": "markdown",
   "metadata": {},
   "source": [
    "# Hotel Reservations Cancellation Prediction\n",
    "\n",
    "The objective of this project is to predict the likelihood of customer cancellations by examining various features and variables associated with reservations.\n",
    "\n",
    "\n",
    "### Data Dictionary\n",
    "\n",
    "| Column Name | Description |\n",
    "| --- | --- |\n",
    "|Booking_ID|unique identifier of each booking|\n",
    "|no_of_adults|number of adults|\n",
    "|no_of_children|number of children|\n",
    "|no_of_weekend_nights|number of weekend nights  (Saturday or Sunday) the guest stayed or booked to stay at the hotel|\n",
    "|no_of_week_nights|number of week nights (Monday to Friday) the guest stayed or booked to stay at the hotel|\n",
    "|meal_type|meal type booked by the customer|\n",
    "|required_car_parking_spaces| Does the customer require a car parking space? (0 - No, 1- Yes)|\n",
    "|lead_time|Number of days between the date of booking and the arrival date|\n",
    "|arrival_year|Year of arrival|\n",
    "|arrival_month|Month of arrival|\n",
    "|arrival_date|Date of arrival|\n",
    "|market_segment|Market segment designation|\n",
    "|repeated_guest Is the customer a repeated guest? (0 - No, 1- Yes)|\n",
    "|no_previous_cancellations| Number of previous bookings that were canceled by the customer prior to the current booking|\n",
    "|previous_bookings_not_canceled|Number of previous bookings not canceled by the customer prior to the current booking|\n",
    "|avg_price_per_room|Average price per day of the reservation; prices of the rooms are dynamic. (in euros)|\n",
    "|no_of_special_requests|Total number of special requests made by the customer (e.g. high floor, view from the room, etc)|\n",
    "|booking_status|Flag indicating if the booking was canceled or not|"
   ]
  },
  {
   "cell_type": "code",
   "execution_count": null,
   "metadata": {},
   "outputs": [],
   "source": []
  },
  {
   "cell_type": "code",
   "execution_count": null,
   "metadata": {},
   "outputs": [],
   "source": []
  },
  {
   "cell_type": "code",
   "execution_count": null,
   "metadata": {},
   "outputs": [],
   "source": []
  },
  {
   "cell_type": "code",
   "execution_count": null,
   "metadata": {},
   "outputs": [],
   "source": []
  },
  {
   "cell_type": "code",
   "execution_count": null,
   "metadata": {},
   "outputs": [],
   "source": []
  }
 ],
 "metadata": {
  "kernelspec": {
   "display_name": "Python 3",
   "language": "python",
   "name": "python3"
  },
  "language_info": {
   "codemirror_mode": {
    "name": "ipython",
    "version": 3
   },
   "file_extension": ".py",
   "mimetype": "text/x-python",
   "name": "python",
   "nbconvert_exporter": "python",
   "pygments_lexer": "ipython3",
   "version": "3.10.9"
  },
  "orig_nbformat": 4
 },
 "nbformat": 4,
 "nbformat_minor": 2
}
